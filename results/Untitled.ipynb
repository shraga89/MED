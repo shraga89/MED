{
 "cells": [
  {
   "cell_type": "code",
   "execution_count": 1,
   "metadata": {},
   "outputs": [],
   "source": [
    "import pandas as pd\n",
    "from sklearn.metrics import precision_recall_fscore_support, accuracy_score\n",
    "import numpy as np\n",
    "import matplotlib.pyplot as plt\n",
    "from scipy import stats\n",
    "import math"
   ]
  },
  {
   "cell_type": "code",
   "execution_count": 215,
   "metadata": {},
   "outputs": [],
   "source": [
    "df = pd.read_csv('./14_06_2019_09_08/full_results.csv')"
   ]
  },
  {
   "cell_type": "code",
   "execution_count": 216,
   "metadata": {},
   "outputs": [
    {
     "name": "stdout",
     "output_type": "stream",
     "text": [
      "Name: precision, recall, fscore\n",
      "P_bin: (0.7047619047619048, 0.7047619047619048, 0.7047619047619048)\n",
      "R_bin: (0.7714285714285715, 0.7714285714285715, 0.7714285714285715)\n",
      "Res_bin: (0.47619047619047616, 0.47619047619047616, 0.47619047619047616)\n",
      "Cal_bin: (0.580952380952381, 0.580952380952381, 0.580952380952381)\n"
     ]
    }
   ],
   "source": [
    "print('Name: precision, recall, fscore')\n",
    "print('P_bin:', precision_recall_fscore_support(df['P_bin'], df['P_bin_pred'], average='micro')[:3])\n",
    "print('R_bin:', precision_recall_fscore_support(df['R_bin'], df['R_bin_pred'], average='micro')[:3])\n",
    "print('Res_bin:', precision_recall_fscore_support(df['Res_bin'], df['Res_bin_pred'], average='micro')[:3])\n",
    "print('Cal_bin:', precision_recall_fscore_support(df['Cal_bin'], df['Cal_bin_pred'], average='micro')[:3])"
   ]
  },
  {
   "cell_type": "code",
   "execution_count": 217,
   "metadata": {},
   "outputs": [],
   "source": [
    "multi = np.array(list(zip(df['P_bin'], df['R_bin'], df['Res_bin'], df['Cal_bin'])))\n",
    "multi_pred = np.array(list(zip(df['P_bin_pred'], df['R_bin_pred'], df['Res_bin_pred'], df['Cal_bin_pred'])))"
   ]
  },
  {
   "cell_type": "code",
   "execution_count": 220,
   "metadata": {},
   "outputs": [
    {
     "data": {
      "text/plain": [
       "(0.5728155339805825, 0.6413043478260869, 0.6051282051282051)"
      ]
     },
     "execution_count": 220,
     "metadata": {},
     "output_type": "execute_result"
    }
   ],
   "source": [
    "precision_recall_fscore_support(multi, multi_pred, average='micro')[:3]"
   ]
  },
  {
   "cell_type": "code",
   "execution_count": 218,
   "metadata": {},
   "outputs": [
    {
     "name": "stdout",
     "output_type": "stream",
     "text": [
      "Accuracy:\n",
      "P_bin: 0.7047619047619048\n",
      "R_bin: 0.7714285714285715\n",
      "Res_bin: 0.47619047619047616\n",
      "Cal_bin: 0.580952380952381\n",
      "MultiLabel: 0.2\n"
     ]
    }
   ],
   "source": [
    "print('Accuracy:')\n",
    "print('P_bin:', accuracy_score(df['P_bin'], df['P_bin_pred']))\n",
    "print('R_bin:', accuracy_score(df['R_bin'], df['R_bin_pred']))\n",
    "print('Res_bin:', accuracy_score(df['Res_bin'], df['Res_bin_pred']))\n",
    "print('Cal_bin:', accuracy_score(df['Cal_bin'], df['Cal_bin_pred']))\n",
    "print('MultiLabel:', accuracy_score(multi, multi_pred))"
   ]
  },
  {
   "cell_type": "code",
   "execution_count": 2,
   "metadata": {},
   "outputs": [],
   "source": [
    "quality = pd.read_csv('./quality_all_subs.csv')"
   ]
  },
  {
   "cell_type": "code",
   "execution_count": 3,
   "metadata": {},
   "outputs": [],
   "source": [
    "trans = {'P_bin': \"(1,0,0,0)\", \n",
    "         'R_bin': \"(1,0,0,0)\", \n",
    "         'Res_bin': \"(1,0,0,0)\", \n",
    "         'Cal_bin': \"(1,0,0,0)\", \n",
    "        \"('P_bin', 'R_bin')\": \"(1,1,0,0)\", \n",
    "         \"('P_bin', 'Res_bin')\": \"(1,0,1,0)\", \n",
    "         \"('P_bin', 'Cal_bin')\": \"(1,0,0,1)\", \n",
    "         \"('R_bin', 'Res_bin')\": \"(0,1,1,0)\", \n",
    "         \"('R_bin', 'Cal_bin')\": \"(0,1,0,1)\", \n",
    "         \"('Res_bin', 'Cal_bin')\": \"(0,0,1,1)\", \n",
    "         \"('P_bin', 'R_bin', 'Res_bin')\": \"(1,1,1,0)\", \n",
    "         \"('P_bin', 'R_bin', 'Cal_bin')\": \"(1,1,0,1)\", \n",
    "         \"('P_bin', 'Res_bin', 'Cal_bin')\": \"(1,0,1,1)\", \n",
    "         \"('R_bin', 'Res_bin', 'Cal_bin')\": \"(0,1,1,1)\", \n",
    "         \"('P_bin', 'R_bin', 'Res_bin', 'Cal_bin')\": \"(1,1,1,1)\" \n",
    "}\n"
   ]
  },
  {
   "cell_type": "code",
   "execution_count": 4,
   "metadata": {},
   "outputs": [],
   "source": [
    "quality.columns = [trans.get(item,item) for item in list(quality.columns)]"
   ]
  },
  {
   "cell_type": "code",
   "execution_count": 5,
   "metadata": {
    "scrolled": true
   },
   "outputs": [
    {
     "name": "stderr",
     "output_type": "stream",
     "text": [
      "C:\\Users\\shrag\\Anaconda3\\lib\\site-packages\\ipykernel_launcher.py:3: SettingWithCopyWarning: \n",
      "A value is trying to be set on a copy of a slice from a DataFrame.\n",
      "Try using .loc[row_indexer,col_indexer] = value instead\n",
      "\n",
      "See the caveats in the documentation: http://pandas.pydata.org/pandas-docs/stable/indexing.html#indexing-view-versus-copy\n",
      "  This is separate from the ipykernel package so we can avoid doing imports until\n"
     ]
    }
   ],
   "source": [
    "quality['orig_matcher'], quality['sub_matcher'], quality['seq'] = quality['matcher'].str.split('_', expand=True).T.values \n",
    "quality['orig_matcher'] = quality['orig_matcher'].str.lstrip('0')\n",
    "quality[(quality['sub_matcher'].isna())]['sub_matcher'] = '000'"
   ]
  },
  {
   "cell_type": "code",
   "execution_count": 6,
   "metadata": {},
   "outputs": [],
   "source": [
    "# quality = quality[~quality['matcher'].str.contains('_')].drop(['P','R','Res','Cal'], axis = 1)\n",
    "# quality = quality.drop(['matcher', 'P','R','Res','Cal'], axis = 1)"
   ]
  },
  {
   "cell_type": "code",
   "execution_count": 7,
   "metadata": {},
   "outputs": [],
   "source": [
    "quality_no_subs = quality[~quality['matcher'].str.contains('_')].drop(['P','R','Res','Cal','orig_matcher', 'sub_matcher', 'seq'], \n",
    "                                                                      axis = 1)\n",
    "sums = [len(quality_no_subs),] + list(quality_no_subs.sum())[1:]\n",
    "names = ['Total',] + list(quality_no_subs.columns)[1:]\n",
    "cords = list(range(len(quality_no_subs.sum())))"
   ]
  },
  {
   "cell_type": "code",
   "execution_count": 8,
   "metadata": {},
   "outputs": [
    {
     "data": {
      "image/png": "[encoded data removed]",
      "text/plain": [
       "<Figure size 432x288 with 1 Axes>"
      ]
     },
     "metadata": {},
     "output_type": "display_data"
    }
   ],
   "source": [
    "plt.clf()\n",
    "width= 0.9\n",
    "p1 = plt.bar(cords, sums, align = 'center', color = 'navy', label=\"Expert Types\", width= width)\n",
    "plt.xticks(cords, names, fontsize=14, rotation=90)\n",
    "# plt.yticks(,fontsize=14)\n",
    "plt.ylabel(\"Count\", fontsize=16)\n",
    "plt.xlabel(\"Type - \\n(IsPrecise?, IsThorough?, IsCorrelated?, IsCalibrated?)\", fontsize=14)\n",
    "# plt.legend(loc='upper center', bbox_to_anchor=(0.5, 1.1), ncol=2, fancybox=True)\n",
    "# plt.savefig('control_p6.eps', bbox_inches = 'tight', format='eps')\n",
    "# plt.text(s = '(IsPrecise?, IsThorough?, IsCorrelated?, IsCalibrated?)', x = 3, y = 80, fontsize=12)\n",
    "plt.savefig('expert_types_no_subs.jpg', bbox_inches = 'tight', format='jpg')\n",
    "plt.show()"
   ]
  },
  {
   "cell_type": "markdown",
   "metadata": {},
   "source": [
    "# COMPLETE!"
   ]
  },
  {
   "cell_type": "code",
   "execution_count": 9,
   "metadata": {},
   "outputs": [],
   "source": [
    "# quality_with_subs = quality.drop(['P','R','Res','Cal','orig_matcher', 'sub_matcher', 'seq'], axis = 1)\n",
    "# sums = [len(quality),] + list(quality.sum())[1:]\n",
    "# names = ['Total',] + list(quality.columns)[1:]\n",
    "# cords = list(range(len(quality.sum())))"
   ]
  },
  {
   "cell_type": "code",
   "execution_count": 10,
   "metadata": {},
   "outputs": [],
   "source": [
    "# quality_with_subs.sum()"
   ]
  },
  {
   "cell_type": "code",
   "execution_count": 11,
   "metadata": {},
   "outputs": [],
   "source": [
    "# plt.clf()\n",
    "# width= 0.9\n",
    "# p1 = plt.bar(cords, sums, align = 'center', color = 'navy', label=\"Expert Types\", width= width)\n",
    "# plt.xticks(cords, names, fontsize=14, rotation=90)\n",
    "# # plt.yticks(,fontsize=14)\n",
    "# plt.ylabel(\"Count\", fontsize=16)\n",
    "# plt.xlabel(\"Type\", fontsize=16)\n",
    "# # plt.legend(loc='upper center', bbox_to_anchor=(0.5, 1.1), ncol=2, fancybox=True)\n",
    "# # plt.savefig('control_p6.eps', bbox_inches = 'tight', format='eps')\n",
    "# plt.savefig('expert_types_with_subs.jpg', bbox_inches = 'tight', format='jpg')\n",
    "# plt.show()"
   ]
  },
  {
   "cell_type": "code",
   "execution_count": 12,
   "metadata": {},
   "outputs": [],
   "source": [
    "quality_seqs_full = quality[(quality['seq'].isna()) | quality['seq'].str.contains('0000')]\n",
    "loc = './figs/'"
   ]
  },
  {
   "cell_type": "code",
   "execution_count": 15,
   "metadata": {},
   "outputs": [
    {
     "name": "stderr",
     "output_type": "stream",
     "text": [
      "C:\\Users\\shrag\\Anaconda3\\lib\\site-packages\\pandas\\core\\indexing.py:543: SettingWithCopyWarning: \n",
      "A value is trying to be set on a copy of a slice from a DataFrame.\n",
      "Try using .loc[row_indexer,col_indexer] = value instead\n",
      "\n",
      "See the caveats in the documentation: http://pandas.pydata.org/pandas-docs/stable/indexing.html#indexing-view-versus-copy\n",
      "  self.obj[item] = s\n"
     ]
    }
   ],
   "source": [
    "for orig in quality_seqs_full['orig_matcher'].unique():\n",
    "    max_sub = quality_seqs_full[quality_seqs_full['orig_matcher'] == orig]['sub_matcher'].str.lstrip('0').astype(float).max()\n",
    "    if np.isnan(max_sub):\n",
    "        max_sub = 5\n",
    "    quality_seqs_full.loc[quality_seqs_full['matcher'] == orig, 'sub_matcher'] = int(max_sub)"
   ]
  },
  {
   "cell_type": "code",
   "execution_count": 16,
   "metadata": {},
   "outputs": [
    {
     "name": "stdout",
     "output_type": "stream",
     "text": [
      "2\n",
      "3\n",
      "4\n",
      "5\n",
      "6\n",
      "7\n",
      "11\n",
      "13\n",
      "14\n",
      "15\n",
      "16\n",
      "17\n",
      "21\n",
      "22\n",
      "23\n",
      "24\n",
      "25\n",
      "26\n",
      "27\n",
      "31\n",
      "32\n",
      "33\n",
      "34\n",
      "35\n",
      "36\n",
      "37\n",
      "41\n",
      "42\n",
      "43\n",
      "44\n",
      "45\n",
      "46\n",
      "47\n",
      "51\n",
      "52\n",
      "53\n",
      "54\n",
      "55\n",
      "56\n",
      "57\n",
      "61\n",
      "62\n",
      "63\n",
      "64\n",
      "65\n",
      "66\n",
      "67\n",
      "71\n",
      "72\n",
      "73\n",
      "74\n",
      "75\n",
      "76\n",
      "77\n",
      "81\n",
      "82\n",
      "83\n",
      "84\n",
      "85\n",
      "86\n",
      "87\n",
      "91\n",
      "92\n",
      "93\n",
      "94\n",
      "95\n",
      "96\n",
      "97\n",
      "103\n",
      "104\n",
      "105\n",
      "106\n",
      "111\n",
      "112\n",
      "113\n",
      "114\n",
      "115\n",
      "116\n",
      "117\n",
      "122\n",
      "123\n",
      "124\n",
      "125\n",
      "132\n",
      "133\n",
      "134\n",
      "135\n",
      "136\n",
      "137\n",
      "138\n",
      "142\n",
      "143\n",
      "144\n",
      "145\n",
      "146\n",
      "147\n",
      "151\n",
      "152\n",
      "153\n",
      "155\n",
      "156\n",
      "161\n",
      "162\n",
      "164\n",
      "171\n"
     ]
    },
    {
     "data": {
      "image/png": "[encoded data removed]",
      "text/plain": [
       "<Figure size 432x288 with 1 Axes>"
      ]
     },
     "metadata": {},
     "output_type": "display_data"
    }
   ],
   "source": [
    "for orig in quality_seqs_full['orig_matcher'].unique():\n",
    "    print(orig)\n",
    "    quality_seqs = quality_seqs_full[quality_seqs_full['orig_matcher'] == orig]\n",
    "    Ps = quality_seqs['P']\n",
    "    Rs = quality_seqs['R']\n",
    "    names = list(quality_seqs['sub_matcher'])\n",
    "    cords = list(range(len(quality_seqs)))\n",
    "    plt.clf()\n",
    "    width= 0.5\n",
    "    p1 = plt.bar(cords, Ps, align = 'center', color = 'navy', label=\"P\", width= width)\n",
    "    p2 = plt.bar([c+width for c in cords], Rs, align = 'center', color = 'tomato', label=\"R\", width= width)\n",
    "    plt.xticks(cords, names, fontsize=8)\n",
    "    plt.yticks(np.linspace(0.0, 1.0, num=6),fontsize=14)\n",
    "    plt.ylabel(\"Elapsed Measure\", fontsize=16)\n",
    "    plt.xlabel(\"Elapsed # Decisions\", fontsize=16)\n",
    "    plt.legend(loc='upper center', bbox_to_anchor=(0.5, 1.1), ncol=2, fancybox=True)\n",
    "    plt.axhline(y=0.5)\n",
    "    # plt.savefig('control_p6.eps', bbox_inches = 'tight', format='eps')\n",
    "    plt.savefig(loc + orig + '_P_R_over_time.jpg', bbox_inches = 'tight', format='jpg')\n",
    "    Ress = quality_seqs['Res']\n",
    "    Cals = quality_seqs['Cal']\n",
    "    plt.clf()\n",
    "    width= 0.5\n",
    "    p1 = plt.bar(cords, Ress, align = 'center', color = 'navy', label=\"Res\", width= width)\n",
    "    p2 = plt.bar([c+width for c in cords], Cals, align = 'center', color = 'tomato', label=\"Cal\", width= width)\n",
    "    plt.xticks(cords, names, fontsize=8)\n",
    "    plt.ylabel(\"Elapsed Measure\", fontsize=16)\n",
    "    plt.xlabel(\"Elapsed # Decisions\", fontsize=16)\n",
    "    plt.legend(loc='upper center', bbox_to_anchor=(0.5, 1.1), ncol=2, fancybox=True)\n",
    "    plt.savefig(loc + orig + '_Res_Cal_over_time.jpg', bbox_inches = 'tight', format='jpg')"
   ]
  },
  {
   "cell_type": "code",
   "execution_count": 17,
   "metadata": {},
   "outputs": [
    {
     "name": "stderr",
     "output_type": "stream",
     "text": [
      "C:\\Users\\shrag\\Anaconda3\\lib\\site-packages\\ipykernel_launcher.py:1: SettingWithCopyWarning: \n",
      "A value is trying to be set on a copy of a slice from a DataFrame.\n",
      "Try using .loc[row_indexer,col_indexer] = value instead\n",
      "\n",
      "See the caveats in the documentation: http://pandas.pydata.org/pandas-docs/stable/indexing.html#indexing-view-versus-copy\n",
      "  \"\"\"Entry point for launching an IPython kernel.\n"
     ]
    }
   ],
   "source": [
    "quality_seqs_full['sub_matcher'] = quality_seqs_full['sub_matcher'].astype(int)\n",
    "Ps = quality_seqs_full.groupby('sub_matcher')['P'].mean().values.tolist()\n",
    "Rs = quality_seqs_full.groupby('sub_matcher')['R'].mean().values.tolist()\n",
    "names = [s[0] for s in list(quality_seqs_full.groupby('sub_matcher')['sub_matcher'])]\n",
    "cords = list(range(len(names)))"
   ]
  },
  {
   "cell_type": "code",
   "execution_count": 18,
   "metadata": {},
   "outputs": [
    {
     "name": "stderr",
     "output_type": "stream",
     "text": [
      "C:\\Users\\shrag\\Anaconda3\\lib\\site-packages\\ipykernel_launcher.py:1: SettingWithCopyWarning: \n",
      "A value is trying to be set on a copy of a slice from a DataFrame.\n",
      "Try using .loc[row_indexer,col_indexer] = value instead\n",
      "\n",
      "See the caveats in the documentation: http://pandas.pydata.org/pandas-docs/stable/indexing.html#indexing-view-versus-copy\n",
      "  \"\"\"Entry point for launching an IPython kernel.\n"
     ]
    }
   ],
   "source": [
    "quality_seqs_full['sub_matcher_bins'] = pd.qcut(quality_seqs_full['sub_matcher'], 10)"
   ]
  },
  {
   "cell_type": "code",
   "execution_count": 19,
   "metadata": {},
   "outputs": [],
   "source": [
    "# quality_seqs_full['sub_matcher_bins'] = quality_seqs_full['sub_matcher_bins'].astype(int)\n",
    "Ps = quality_seqs_full.groupby('sub_matcher_bins')['P'].mean().values.tolist()\n",
    "Rs = quality_seqs_full.groupby('sub_matcher_bins')['R'].mean().values.tolist()\n",
    "names = [(math.ceil(s[0].left), math.ceil(s[0].right)) for s in list(quality_seqs_full.groupby('sub_matcher_bins')['sub_matcher_bins'])]\n",
    "cords = list(range(len(names)))"
   ]
  },
  {
   "cell_type": "code",
   "execution_count": 20,
   "metadata": {},
   "outputs": [
    {
     "data": {
      "image/png": "[encoded data removed]",
      "text/plain": [
       "<Figure size 432x288 with 1 Axes>"
      ]
     },
     "metadata": {},
     "output_type": "display_data"
    }
   ],
   "source": [
    "# plt.clf()\n",
    "# width= 0.5\n",
    "# p1 = plt.bar(cords, Ps, align = 'center', color = 'navy', label=\"P\", width= width)\n",
    "# p2 = plt.bar([c+width for c in cords], Rs, align = 'center', color = 'tomato', label=\"R\", width= width)\n",
    "# plt.xticks(cords, names, fontsize=8)\n",
    "# # plt.yticks(,fontsize=14)\n",
    "# plt.ylabel(\"Eval\", fontsize=16)\n",
    "# plt.xlabel(\"Type\", fontsize=16)\n",
    "# plt.legend(loc='upper center', bbox_to_anchor=(0.5, 1.1), ncol=2, fancybox=True)\n",
    "# # plt.savefig('control_p6.eps', bbox_inches = 'tight', format='eps')\n",
    "# plt.savefig('P_R_over_time.jpg', bbox_inches = 'tight', format='jpg')\n",
    "# plt.show()\n",
    "\n",
    "plt.clf()\n",
    "width = 0.5\n",
    "\n",
    "plt.plot(cords, Ps, color = 'navy',\n",
    "          label=\"Mean Precision\", markersize=5, marker='o', linewidth=0)\n",
    "plt.plot(cords, Rs, color = 'tomato',\n",
    "          label=\"Mean Recall\", markersize=5, marker='v', linewidth=0)\n",
    "\n",
    "# y = np.array(pd.to_numeric(quality_seqs_full['P']))\n",
    "# x = np.array(pd.to_numeric(quality_seqs_full['sub_matcher']))\n",
    "# slope1, intercept1, r_value1, p_value1, std_err1 = stats.linregress(x,y)\n",
    "# Trend_Correct = intercept1 + slope1*x\n",
    "# p4 = plt.plot(x, Trend_Correct, linestyle='-', color = 'navy',\n",
    "#               label='Trend Precision', markersize=0)\n",
    "\n",
    "# y = np.array(pd.to_numeric(quality_seqs_full['R']))\n",
    "# x = np.array(pd.to_numeric(quality_seqs_full['sub_matcher']))\n",
    "# slope2, intercept2, r_value2, p_value2, std_err2 = stats.linregress(x,y)\n",
    "# Trend_Correct = intercept2 + slope2*x\n",
    "# p6 = plt.plot(x, Trend_Correct, linestyle='-', color = 'tomato',\n",
    "#               label='Trend Recall', markersize=0)\n",
    "\n",
    "plt.xticks(cords, names, fontsize=14, rotation=90)\n",
    "plt.yticks(np.linspace(0.0, 1.0, num=6),fontsize=14)\n",
    "plt.ylabel(\"Elapsed Measure\", fontsize=16)\n",
    "plt.xlabel(\"Elapsed # Decisions\", fontsize=16)\n",
    "plt.legend(loc='upper center', bbox_to_anchor=(0.5, 1.2), ncol=2, fancybox=True)\n",
    "plt.savefig('P_R_over_time.jpg', bbox_inches = 'tight', format='jpg')\n",
    "plt.show()"
   ]
  },
  {
   "cell_type": "code",
   "execution_count": 21,
   "metadata": {},
   "outputs": [],
   "source": [
    "# quality_seqs_full['sub_matcher_bins'] = quality_seqs_full['sub_matcher_bins'].astype(int)\n",
    "Ress = quality_seqs_full.groupby('sub_matcher_bins')['Res'].mean().values.tolist()\n",
    "Cals = quality_seqs_full.groupby('sub_matcher_bins')['Cal'].mean().values.tolist()\n",
    "# names = [(math.ceil(s[0].left), math.ceil(s[0].right)) for s in list(quality_seqs_full.groupby('sub_matcher_bins')['sub_matcher_bins'])]\n",
    "# cords = list(range(len(names))"
   ]
  },
  {
   "cell_type": "code",
   "execution_count": 22,
   "metadata": {},
   "outputs": [
    {
     "data": {
      "image/png": "[encoded data removed]",
      "text/plain": [
       "<Figure size 432x288 with 1 Axes>"
      ]
     },
     "metadata": {},
     "output_type": "display_data"
    }
   ],
   "source": [
    "plt.clf()\n",
    "width = 0.5\n",
    "\n",
    "plt.plot(cords, Ress, color = 'navy',\n",
    "          label=\"Mean Res\", markersize=5, marker='o', linewidth=0)\n",
    "plt.plot(cords, Cals, color = 'tomato',\n",
    "          label=\"Mean Cal\", markersize=5, marker='v', linewidth=0)\n",
    "\n",
    "plt.xticks(cords, names, fontsize=14, rotation=90)\n",
    "plt.yticks(np.linspace(0.0, 1.0, num=6),fontsize=14)\n",
    "plt.ylabel(\"Elapsed Measure\", fontsize=16)\n",
    "plt.xlabel(\"Elapsed # Decisions\", fontsize=16)\n",
    "plt.legend(loc='upper center', bbox_to_anchor=(0.5, 1.2), ncol=2, fancybox=True)\n",
    "plt.savefig('Res_Cal_over_time.jpg', bbox_inches = 'tight', format='jpg')\n",
    "plt.show()"
   ]
  },
  {
   "cell_type": "code",
   "execution_count": null,
   "metadata": {},
   "outputs": [],
   "source": []
  },
  {
   "cell_type": "code",
   "execution_count": null,
   "metadata": {},
   "outputs": [],
   "source": []
  }
 ],
 "metadata": {
  "kernelspec": {
   "display_name": "Python 3",
   "language": "python",
   "name": "python3"
  },
  "language_info": {
   "codemirror_mode": {
    "name": "ipython",
    "version": 3
   },
   "file_extension": ".py",
   "mimetype": "text/x-python",
   "name": "python",
   "nbconvert_exporter": "python",
   "pygments_lexer": "ipython3",
   "version": "3.6.5"
  }
 },
 "nbformat": 4,
 "nbformat_minor": 2
}
