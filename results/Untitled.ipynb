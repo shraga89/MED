{
 "cells": [
  {
   "cell_type": "code",
   "execution_count": 40,
   "metadata": {},
   "outputs": [],
   "source": [
    "import pandas as pd\n",
    "from sklearn.metrics import precision_recall_fscore_support, accuracy_score\n",
    "import numpy as np\n",
    "import matplotlib.pyplot as plt"
   ]
  },
  {
   "cell_type": "code",
   "execution_count": 4,
   "metadata": {},
   "outputs": [],
   "source": [
    "df = pd.read_csv('./23_05_2019_20_36/full_results.csv')"
   ]
  },
  {
   "cell_type": "code",
   "execution_count": 25,
   "metadata": {},
   "outputs": [
    {
     "name": "stdout",
     "output_type": "stream",
     "text": [
      "Name: precision, recall, fscore\n",
      "P_bin: (0.9047619047619048, 0.9047619047619048, 0.9047619047619048)\n",
      "R_bin: (0.8761904761904762, 0.8761904761904762, 0.8761904761904762)\n",
      "Res_bin: (0.6190476190476191, 0.6190476190476191, 0.6190476190476191)\n",
      "Cal_bin: (0.9142857142857143, 0.9142857142857143, 0.9142857142857143)\n"
     ]
    }
   ],
   "source": [
    "print('Name: precision, recall, fscore')\n",
    "print('P_bin:', precision_recall_fscore_support(df['P_bin'], df['P_bin_pred'], average='micro')[:3])\n",
    "print('R_bin:', precision_recall_fscore_support(df['R_bin'], df['R_bin_pred'], average='micro')[:3])\n",
    "print('Res_bin:', precision_recall_fscore_support(df['Res_bin'], df['Res_bin_pred'], average='micro')[:3])\n",
    "print('Cal_bin:', precision_recall_fscore_support(df['Cal_bin'], df['Cal_bin_pred'], average='micro')[:3])"
   ]
  },
  {
   "cell_type": "code",
   "execution_count": 21,
   "metadata": {},
   "outputs": [],
   "source": [
    "multi = np.array(list(zip(df['P_bin'], df['R_bin'], df['Res_bin'], df['Cal_bin'])))\n",
    "multi_pred = np.array(list(zip(df['P_bin_pred'], df['R_bin_pred'], df['Res_bin_pred'], df['Cal_bin_pred'])))"
   ]
  },
  {
   "cell_type": "code",
   "execution_count": 27,
   "metadata": {},
   "outputs": [
    {
     "name": "stdout",
     "output_type": "stream",
     "text": [
      "Accuracy:\n",
      "P_bin: 0.9047619047619048\n",
      "R_bin: 0.8761904761904762\n",
      "Res_bin: 0.6190476190476191\n",
      "Cal_bin: 0.9142857142857143\n",
      "MultiLabel: 0.4666666666666667\n"
     ]
    }
   ],
   "source": [
    "print('Accuracy:')\n",
    "print('P_bin:', accuracy_score(df['P_bin'], df['P_bin_pred']))\n",
    "print('R_bin:', accuracy_score(df['R_bin'], df['R_bin_pred']))\n",
    "print('Res_bin:', accuracy_score(df['Res_bin'], df['Res_bin_pred']))\n",
    "print('Cal_bin:', accuracy_score(df['Cal_bin'], df['Cal_bin_pred']))\n",
    "print('MultiLabel:', accuracy_score(multi, multi_pred))"
   ]
  },
  {
   "cell_type": "code",
   "execution_count": 71,
   "metadata": {},
   "outputs": [],
   "source": [
    "quality = pd.read_csv('./23_05_2019_20_36/quality.csv')"
   ]
  },
  {
   "cell_type": "code",
   "execution_count": 72,
   "metadata": {
    "scrolled": true
   },
   "outputs": [],
   "source": [
    "# FIX:\n",
    "# quality['orig_matcher'], quality['sub_matcher'] = quality['matcher'].str.split('_', expand=True)"
   ]
  },
  {
   "cell_type": "code",
   "execution_count": 73,
   "metadata": {},
   "outputs": [],
   "source": [
    "# quality = quality[~quality['matcher'].str.contains('_')].drop(['P','R','Res','Cal'], axis = 1)\n",
    "quality = quality.drop(['P','R','Res','Cal'], axis = 1)"
   ]
  },
  {
   "cell_type": "code",
   "execution_count": 74,
   "metadata": {},
   "outputs": [],
   "source": [
    "sums = [len(quality),] + list(quality.sum())[1:]\n",
    "names = ['Total',] + list(quality.columns)[1:]\n",
    "cords = list(range(len(quality.sum())))"
   ]
  },
  {
   "cell_type": "code",
   "execution_count": 75,
   "metadata": {},
   "outputs": [
    {
     "data": {
      "image/png": "[encoded data removed]",
      "text/plain": [
       "<Figure size 432x288 with 1 Axes>"
      ]
     },
     "metadata": {},
     "output_type": "display_data"
    }
   ],
   "source": [
    "plt.clf()\n",
    "width= 0.9\n",
    "p1 = plt.bar(cords, sums, align = 'center', color = 'navy', label=\"Expert Types\", width= width)\n",
    "plt.xticks(cords, names, fontsize=14, rotation=90)\n",
    "# plt.yticks(,fontsize=14)\n",
    "plt.ylabel(\"Count\", fontsize=16)\n",
    "plt.xlabel(\"Type\", fontsize=16)\n",
    "# plt.legend(loc='upper center', bbox_to_anchor=(0.5, 1.1), ncol=2, fancybox=True)\n",
    "# plt.savefig('control_p6.eps', bbox_inches = 'tight', format='eps')\n",
    "plt.savefig('expert_types_full.jpg', bbox_inches = 'tight', format='jpg')\n",
    "plt.show()"
   ]
  },
  {
   "cell_type": "code",
   "execution_count": null,
   "metadata": {},
   "outputs": [],
   "source": []
  }
 ],
 "metadata": {
  "kernelspec": {
   "display_name": "Python 3",
   "language": "python",
   "name": "python3"
  },
  "language_info": {
   "codemirror_mode": {
    "name": "ipython",
    "version": 3
   },
   "file_extension": ".py",
   "mimetype": "text/x-python",
   "name": "python",
   "nbconvert_exporter": "python",
   "pygments_lexer": "ipython3",
   "version": "3.6.5"
  }
 },
 "nbformat": 4,
 "nbformat_minor": 2
}
